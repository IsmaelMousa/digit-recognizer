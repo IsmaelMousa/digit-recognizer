{
 "nbformat": 4,
 "nbformat_minor": 0,
 "metadata": {
  "colab": {
   "provenance": [],
   "gpuType": "T4"
  },
  "kernelspec": {
   "name": "python3",
   "display_name": "Python 3"
  },
  "language_info": {
   "name": "python"
  },
  "accelerator": "GPU"
 },
 "cells": [
  {
   "cell_type": "markdown",
   "source": [
    "# Digit Recognizer Competitions\n",
    "\n",
    "The goal is to correctly identify digits from a dataset of tens of thousands of handwritten images."
   ],
   "metadata": {
    "id": "AADRrvzbRumH"
   }
  },
  {
   "cell_type": "markdown",
   "source": [
    "## Install & Import Required Dependencies\n",
    "\n",
    "\n",
    "*   **PyTorch**: For tensor operations and neural network functionalities, also it's include **Torchvision** for image processing, including dataset handling and transformations.\n",
    "*   **Pandas**: For data manipulation and saving results to CSV.\n",
    "*   **Matplotlib**: For visualizing images and results.\n",
    "\n"
   ],
   "metadata": {
    "id": "ww1i2q4QRuw7"
   }
  },
  {
   "cell_type": "code",
   "source": [
    "!pip install -r requirements.txt"
   ],
   "metadata": {
    "id": "UsKb14Qsj68P"
   },
   "execution_count": null,
   "outputs": []
  },
  {
   "cell_type": "code",
   "source": [
    "import torch\n",
    "import torch.nn as nn\n",
    "from torch.utils.data import DataLoader\n",
    "import torch.optim as optim\n",
    "from torchvision.datasets import MNIST\n",
    "import torchvision.transforms as transforms\n",
    "import pandas as pd\n",
    "import matplotlib.pyplot as plt"
   ],
   "metadata": {
    "id": "XyQEzD5PR_S9"
   },
   "execution_count": 1,
   "outputs": []
  },
  {
   "cell_type": "markdown",
   "source": [
    "## Load & Prepare The Dataset\n",
    "\n",
    "MNIST (\"Modified National Institute of Standards and Technology\") is the de facto “hello world” dataset of computer vision. Since its release in 1999, this classic dataset of handwritten images has served as the basis for benchmarking classification algorithms. As new machine learning techniques emerge, MNIST remains a reliable resource for researchers and learners alike.\n",
    "\n",
    "\n",
    "- **Data Transformation:**\n",
    "  1. Applies a series of image transformations.\n",
    "  2. Converts images to PyTorch tensors.\n",
    "  3. Normalizes the tensor images to have mean 0.5 and standard deviation 0.5.\n",
    "\n",
    "- **Training Data:**\n",
    "  1. Loads the MNIST training dataset with the specified transformations.\n",
    "  2. Creates a DataLoader for batching and shuffling the training data.\n",
    "\n",
    "- **Testing Data:**\n",
    "  1. Loads the MNIST test dataset with the specified transformations.\n",
    "  2. Creates a DataLoader for batching the test data without shuffling.\n"
   ],
   "metadata": {
    "id": "G46ODAVFSHT8"
   }
  },
  {
   "cell_type": "code",
   "source": [
    "transform = transforms.Compose([transforms.ToTensor(), transforms.Normalize((0.5,), (0.5,))])\n",
    "\n",
    "train = MNIST(root=\"/data\", train=True, download=True, transform=transform)\n",
    "\n",
    "train_loader = DataLoader(dataset=train, batch_size=32, shuffle=True)\n",
    "\n",
    "\n",
    "test = MNIST(root=\"/data\", train=False, transform=transform)\n",
    "\n",
    "test_loader = DataLoader(dataset=test, batch_size=32, shuffle=False)"
   ],
   "metadata": {
    "id": "hrNzqffGSGj1"
   },
   "execution_count": null,
   "outputs": []
  },
  {
   "cell_type": "markdown",
   "source": [
    "## Define the Neural Network Model & Sets Up The Device\n",
    "\n",
    "\n",
    "- **Define a feedforward neural network with two fully connected layers**:\n",
    "    - First layer: 784 input features (28x28 images) to 128 hidden units.\n",
    "    - Second layer: 128 hidden units to 10 output classes (digits 0-9).\n",
    "    - Activation Function: `ReLU` is used after the first layer.\n",
    "\n",
    "- **Device Setup**:\n",
    "  - Determines if a GPU is available and sets the device accordingly (GPU if available, otherwise CPU).\n",
    "  - Moves the model to the specified device for training or inference.\n",
    "\n"
   ],
   "metadata": {
    "id": "Y7itPal4UWfM"
   }
  },
  {
   "cell_type": "code",
   "source": [
    "class DigitRecognizer(nn.Module):\n",
    "    def __init__(self):\n",
    "        super().__init__()\n",
    "        self.fc1 = nn.Linear(28*28, 128)\n",
    "        self.fc2 = nn.Linear(128, 10)\n",
    "        self.act = nn.ReLU()\n",
    "\n",
    "    def forward(self, x):\n",
    "        x = x.view(-1, 28*28)\n",
    "\n",
    "        return self.fc2(self.act(self.fc1(x)))\n",
    "\n",
    "device = torch.device(\"cuda\" if torch.cuda.is_available() else \"cpu\")\n",
    "model = DigitRecognizer().to(device)"
   ],
   "metadata": {
    "id": "jzJfHtSWR_bH"
   },
   "execution_count": 3,
   "outputs": []
  },
  {
   "cell_type": "markdown",
   "source": [
    "## Loss Function & Optimizer\n",
    "\n",
    "\n",
    "- **Cross Entropy Loss**: A loss function that measures the classification error between predictions and actual labels.\n",
    "\n",
    "- **Adam Optimizer**: Updates/Adjustes model parameters to minimize the loss with adaptive learning rates.\n"
   ],
   "metadata": {
    "id": "JFrzFG2uVOpA"
   }
  },
  {
   "cell_type": "code",
   "source": [
    "loss_function = nn.CrossEntropyLoss()\n",
    "\n",
    "optimizer = optim.Adam(model.parameters(), lr=0.001)"
   ],
   "metadata": {
    "id": "1K7VBvwgR_dO"
   },
   "execution_count": 4,
   "outputs": []
  },
  {
   "cell_type": "markdown",
   "source": [
    "## Train The Model\n",
    "\n",
    "- **Epochs**: Number of iterations over the entire training dataset.\n",
    "\n",
    "- **Training Process**:\n",
    "  - The model is set to training mode using `model.train()`.\n",
    "  - For each batch, compute the loss using `loss_function`.\n",
    "  - Perform backpropagation and update model parameters with `optimizer.step()`.\n",
    "  - Compute training accuracy by comparing predicted labels with actual labels.\n",
    "\n",
    "- **Output**:\n",
    "  - Epoch: The number of the current epoch.\n",
    "  - Loss: Average loss for the current epoch.\n",
    "  - Accuracy: Training accuracy as a percentage.\n"
   ],
   "metadata": {
    "id": "T7424HKTVh-E"
   }
  },
  {
   "cell_type": "code",
   "source": [
    "epochs = 10\n",
    "for epoch in range(epochs):\n",
    "    model.train()\n",
    "    running_loss = 0.0\n",
    "    correct_train = 0\n",
    "    total_train = 0\n",
    "\n",
    "    for images, labels in train_loader:\n",
    "        images, labels = images.to(device), labels.to(device)\n",
    "\n",
    "        optimizer.zero_grad()\n",
    "\n",
    "        outputs = model(images)\n",
    "        loss = loss_function(outputs, labels)\n",
    "\n",
    "        loss.backward()\n",
    "        optimizer.step()\n",
    "\n",
    "        running_loss += loss.item()\n",
    "\n",
    "        _, predicted = torch.max(outputs.data, 1)\n",
    "\n",
    "        total_train += labels.size(0)\n",
    "\n",
    "        correct_train += (predicted == labels).sum().item()\n",
    "\n",
    "    train_accuracy = 100 * correct_train / total_train\n",
    "\n",
    "    print(f\"Epoch {epoch+1}, Loss: {running_loss/len(train_loader)}, Accuracy(Train): {train_accuracy}%\")"
   ],
   "metadata": {
    "colab": {
     "base_uri": "https://localhost:8080/"
    },
    "id": "8hMNVKCBVhIk",
    "outputId": "d71f05fd-0f1d-4175-d11e-20c5cee564ba"
   },
   "execution_count": 5,
   "outputs": [
    {
     "output_type": "stream",
     "name": "stdout",
     "text": [
      "Epoch 1, Loss: 0.35279504987398785, Accuracy(Train): 89.64333333333333%\n",
      "Epoch 2, Loss: 0.17903282189369202, Accuracy(Train): 94.64833333333333%\n",
      "Epoch 3, Loss: 0.13234237704624732, Accuracy(Train): 95.895%\n",
      "Epoch 4, Loss: 0.10982743563031157, Accuracy(Train): 96.595%\n",
      "Epoch 5, Loss: 0.09569725017026066, Accuracy(Train): 97.00833333333334%\n",
      "Epoch 6, Loss: 0.08508547075620541, Accuracy(Train): 97.30833333333334%\n",
      "Epoch 7, Loss: 0.07740264667390535, Accuracy(Train): 97.52333333333333%\n",
      "Epoch 8, Loss: 0.06942448264529619, Accuracy(Train): 97.75166666666667%\n",
      "Epoch 9, Loss: 0.06528033916993688, Accuracy(Train): 97.87%\n",
      "Epoch 10, Loss: 0.059322033417550844, Accuracy(Train): 97.98833333333333%\n"
     ]
    }
   ]
  },
  {
   "cell_type": "markdown",
   "source": [
    "## Evaluate the Model\n",
    "\n",
    "- **Model Evaluation**:\n",
    "  - Set the model to evaluation mode with `model.eval()`.\n",
    "  - Compute the test accuracy by comparing predicted labels with actual labels.\n",
    "  - Use `torch.no_grad()` to disable gradient calculation during evaluation.\n",
    "\n",
    "\n",
    "- **Output & Visualization**:\n",
    "  - Test Accuracy: Percentage of correct predictions on the test set.\n",
    "  - Sample Display: Show images and their corresponding actual and predicted labels for a visual comparison.\n",
    "  - Comparison Dataframe: Display a few test images with their actual and predicted labels.\n",
    "  "
   ],
   "metadata": {
    "id": "8q1oh9GcWSJY"
   }
  },
  {
   "cell_type": "code",
   "source": [
    "model.eval()\n",
    "\n",
    "correct = 0\n",
    "total = 0\n",
    "\n",
    "predicted_labels, actual_labels, sample_images = [], [], []\n",
    "\n",
    "with torch.no_grad():\n",
    "    for images, labels in test_loader:\n",
    "        images, labels = images.to(device), labels.to(device)\n",
    "\n",
    "        outputs = model(images)\n",
    "        _, predicted = torch.max(outputs.data, 1)\n",
    "\n",
    "        predicted_labels.extend(predicted.cpu().numpy())\n",
    "        actual_labels.extend(labels.cpu().numpy())\n",
    "        sample_images.extend(images.cpu().numpy())\n",
    "\n",
    "        total += labels.size(0)\n",
    "        correct += (predicted == labels).sum().item()\n",
    "\n",
    "test_accuracy = 100 * correct / total\n",
    "\n",
    "print(f\"Accuracy(Test): {test_accuracy:.2f}%\")"
   ],
   "metadata": {
    "colab": {
     "base_uri": "https://localhost:8080/"
    },
    "id": "6oH2E1Zvbanz",
    "outputId": "88e59032-962e-4658-d528-c69f71cec197"
   },
   "execution_count": 18,
   "outputs": [
    {
     "output_type": "stream",
     "name": "stdout",
     "text": [
      "Accuracy(Test): 97.26%\n"
     ]
    }
   ]
  },
  {
   "cell_type": "code",
   "source": [
    "n_samples = 5\n",
    "\n",
    "for i in range(n_samples):\n",
    "    print(f\"Sample {i+1} - Actual: {actual_labels[i]}, Predicted: {predicted_labels[i]}\")\n",
    "\n",
    "    plt.figure(figsize=(2, 2))\n",
    "    plt.imshow(sample_images[i].squeeze(), cmap=\"gray\")\n",
    "    plt.title(f\"Actual: {actual_labels[i]}, Predicted: {predicted_labels[i]}\")\n",
    "    plt.axis(\"off\")\n",
    "\n",
    "    plt.show()"
   ],
   "metadata": {
    "colab": {
     "base_uri": "https://localhost:8080/",
     "height": 1000
    },
    "id": "FKamvzZwcb3F",
    "outputId": "f25e5b9a-95ab-455f-a347-25bb7652d230"
   },
   "execution_count": 19,
   "outputs": [
    {
     "output_type": "stream",
     "name": "stdout",
     "text": [
      "Sample 1 - Actual: 7, Predicted: 7\n"
     ]
    },
    {
     "output_type": "display_data",
     "data": {
      "text/plain": [
       "<Figure size 200x200 with 1 Axes>"
      ],
      "image/png": "[encoded data removed]"
     },
     "metadata": {}
    },
    {
     "output_type": "stream",
     "name": "stdout",
     "text": [
      "Sample 2 - Actual: 2, Predicted: 2\n"
     ]
    },
    {
     "output_type": "display_data",
     "data": {
      "text/plain": [
       "<Figure size 200x200 with 1 Axes>"
      ],
      "image/png": "[encoded data removed]"
     },
     "metadata": {}
    },
    {
     "output_type": "stream",
     "name": "stdout",
     "text": [
      "Sample 3 - Actual: 1, Predicted: 1\n"
     ]
    },
    {
     "output_type": "display_data",
     "data": {
      "text/plain": [
       "<Figure size 200x200 with 1 Axes>"
      ],
      "image/png": "[encoded data removed]"
     },
     "metadata": {}
    },
    {
     "output_type": "stream",
     "name": "stdout",
     "text": [
      "Sample 4 - Actual: 0, Predicted: 0\n"
     ]
    },
    {
     "output_type": "display_data",
     "data": {
      "text/plain": [
       "<Figure size 200x200 with 1 Axes>"
      ],
      "image/png": "[encoded data removed]"
     },
     "metadata": {}
    },
    {
     "output_type": "stream",
     "name": "stdout",
     "text": [
      "Sample 5 - Actual: 4, Predicted: 4\n"
     ]
    },
    {
     "output_type": "display_data",
     "data": {
      "text/plain": [
       "<Figure size 200x200 with 1 Axes>"
      ],
      "image/png": "[encoded data removed]"
     },
     "metadata": {}
    }
   ]
  },
  {
   "cell_type": "code",
   "source": [
    "comparison_df = pd.DataFrame({\"Sample\": range(1, n_samples + 1),\n",
    "                              \"Actual\": actual_labels[:n_samples],\n",
    "                              \"Predicted\": predicted_labels[:n_samples]})\n",
    "\n",
    "comparison_df.style.hide(axis=\"index\")"
   ],
   "metadata": {
    "colab": {
     "base_uri": "https://localhost:8080/",
     "height": 206
    },
    "id": "j3UJwYurcruN",
    "outputId": "8bfa7883-7be6-49ba-fb0e-670810a6e33e"
   },
   "execution_count": 20,
   "outputs": [
    {
     "output_type": "execute_result",
     "data": {
      "text/plain": [
       "<pandas.io.formats.style.Styler at 0x7a4544a829b0>"
      ],
      "text/html": [
       "<style type=\"text/css\">\n",
       "</style>\n",
       "<table id=\"T_5bf80\" class=\"dataframe\">\n",
       "  <thead>\n",
       "    <tr>\n",
       "      <th id=\"T_5bf80_level0_col0\" class=\"col_heading level0 col0\" >Sample</th>\n",
       "      <th id=\"T_5bf80_level0_col1\" class=\"col_heading level0 col1\" >Actual</th>\n",
       "      <th id=\"T_5bf80_level0_col2\" class=\"col_heading level0 col2\" >Predicted</th>\n",
       "    </tr>\n",
       "  </thead>\n",
       "  <tbody>\n",
       "    <tr>\n",
       "      <td id=\"T_5bf80_row0_col0\" class=\"data row0 col0\" >1</td>\n",
       "      <td id=\"T_5bf80_row0_col1\" class=\"data row0 col1\" >7</td>\n",
       "      <td id=\"T_5bf80_row0_col2\" class=\"data row0 col2\" >7</td>\n",
       "    </tr>\n",
       "    <tr>\n",
       "      <td id=\"T_5bf80_row1_col0\" class=\"data row1 col0\" >2</td>\n",
       "      <td id=\"T_5bf80_row1_col1\" class=\"data row1 col1\" >2</td>\n",
       "      <td id=\"T_5bf80_row1_col2\" class=\"data row1 col2\" >2</td>\n",
       "    </tr>\n",
       "    <tr>\n",
       "      <td id=\"T_5bf80_row2_col0\" class=\"data row2 col0\" >3</td>\n",
       "      <td id=\"T_5bf80_row2_col1\" class=\"data row2 col1\" >1</td>\n",
       "      <td id=\"T_5bf80_row2_col2\" class=\"data row2 col2\" >1</td>\n",
       "    </tr>\n",
       "    <tr>\n",
       "      <td id=\"T_5bf80_row3_col0\" class=\"data row3 col0\" >4</td>\n",
       "      <td id=\"T_5bf80_row3_col1\" class=\"data row3 col1\" >0</td>\n",
       "      <td id=\"T_5bf80_row3_col2\" class=\"data row3 col2\" >0</td>\n",
       "    </tr>\n",
       "    <tr>\n",
       "      <td id=\"T_5bf80_row4_col0\" class=\"data row4 col0\" >5</td>\n",
       "      <td id=\"T_5bf80_row4_col1\" class=\"data row4 col1\" >4</td>\n",
       "      <td id=\"T_5bf80_row4_col2\" class=\"data row4 col2\" >4</td>\n",
       "    </tr>\n",
       "  </tbody>\n",
       "</table>\n"
      ]
     },
     "metadata": {},
     "execution_count": 20
    }
   ]
  }
 ]
}
